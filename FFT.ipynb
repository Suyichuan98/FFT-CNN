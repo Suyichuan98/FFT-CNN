{
  "cells": [
    {
      "cell_type": "markdown",
      "metadata": {
        "id": "59wglJvPLmn3"
      },
      "source": [
        "# Fast Training of Convolutional Networks through FFTs"
      ]
    },
    {
      "cell_type": "markdown",
      "metadata": {
        "id": "Pg6WzstBsoRa"
      },
      "source": [
        "*Part1* Compare the FFT and direct Convolution"
      ]
    },
    {
      "cell_type": "code",
      "execution_count": 1,
      "metadata": {
        "id": "PNGan0yssl7r"
      },
      "outputs": [],
      "source": [
        "import os\n",
        "import torch\n",
        "\n",
        "import numpy as np\n",
        "import torch.nn.functional as f\n",
        "import matplotlib.pyplot as plt\n",
        "\n",
        "from tqdm import tqdm\n",
        "from time import time\n",
        "from timeit import Timer\n",
        "from torch import Tensor, nn\n",
        "from torch.fft import irfftn, rfftn\n",
        "from functools import partial,lru_cache, partial\n",
        "from typing import Iterable, Tuple, Union,Callable, NamedTuple,Dict, Iterable, List, Optional, Sequence, Union\n"
      ]
    },
    {
      "cell_type": "code",
      "source": [
        "device = torch.device(\"cuda:0\" if torch.cuda.is_available() else \"cpu\")"
      ],
      "metadata": {
        "id": "ek1gznPj7wVM"
      },
      "execution_count": 2,
      "outputs": []
    },
    {
      "cell_type": "code",
      "execution_count": 3,
      "metadata": {
        "id": "dID3sEAhtUY8"
      },
      "outputs": [],
      "source": [
        "def complex_matmul(a: Tensor, b: Tensor) -> Tensor:\n",
        "    #doing complex multiplication\n",
        "    scalar_matmul = partial(torch.einsum, \"ab..., cb... -> ac...\")\n",
        "    real_part = scalar_matmul(a.real, b.real) - scalar_matmul(a.imag, b.imag)\n",
        "    imag_part = scalar_matmul(a.imag, b.real) + scalar_matmul(a.real, b.imag)\n",
        "    result = torch.zeros(real_part.shape, dtype=torch.complex64, device=a.device)\n",
        "    result.real, result.imag = real_part, imag_part\n",
        "    return result\n"
      ]
    },
    {
      "cell_type": "code",
      "execution_count": 4,
      "metadata": {
        "id": "aJxBVTiyvlu2"
      },
      "outputs": [],
      "source": [
        "def my_fft_conv(\n",
        "    image: Tensor,\n",
        "    kernel: Tensor,\n",
        "    bias: Tensor = None,\n",
        "    padding = 0,\n",
        ") -> Tensor:\n",
        "\n",
        "    # convert into tuple\n",
        "    padding = (image.ndim - 2) * (0,)\n",
        "\n",
        "    # Pad the tensors\n",
        "    image_padding = [p for p in padding[::-1] for _ in range(2)]\n",
        "    image = f.pad(image, image_padding)\n",
        "\n",
        "    if image.size(-1) % 2 != 0:\n",
        "        image_ = f.pad(image, [0, 1])\n",
        "    else:\n",
        "        image_ = image\n",
        "    # Padding for kernel\n",
        "    kernel_padding = [pad for i in reversed(range(2, image_.ndim)) for pad in [0, image_.size(i) - kernel.size(i)]]\n",
        "    padded_kernel = f.pad(kernel, kernel_padding)\n",
        "\n",
        "    # fourier convolution\n",
        "    dim = tuple(range(2, image.ndim))\n",
        "    image_ = image_.to(device)\n",
        "    padded_kernel = padded_kernel.to(device)\n",
        "    bias = bias.to(device)\n",
        "    #FFT\n",
        "    image_fft = rfftn(image_, dim=dim)\n",
        "    kernel_fft = rfftn(padded_kernel, dim=dim)\n",
        "    #complex mutiplication\n",
        "    kernel_fft.imag *= -1\n",
        "    output_fft = complex_matmul(image_fft, kernel_fft)\n",
        "    #inverse FFT\n",
        "    output = irfftn(output_fft, dim=dim)\n",
        "\n",
        "    # Remove extra padded values\n",
        "    crop_slices = [slice(0, output.size(0)), slice(0, output.size(1))] + [\n",
        "        slice(0, (image.size(i) - kernel.size(i) + 1))\n",
        "        for i in range(2, image.ndim)\n",
        "    ]\n",
        "    output = output[crop_slices].contiguous()\n",
        "\n",
        "    # add a bias term before returning.\n",
        "    if bias is not None:\n",
        "        bias_shape = tuple([1, -1] + (image.ndim - 2) * [1])\n",
        "        output += bias.view(bias_shape)\n",
        "\n",
        "    return output\n"
      ]
    },
    {
      "cell_type": "code",
      "execution_count": 5,
      "metadata": {
        "id": "JVqVqcM4vUdE"
      },
      "outputs": [],
      "source": [
        "class FFTConv2d(nn.Module):\n",
        "    def __init__(\n",
        "        self,\n",
        "        in_channels: int,\n",
        "        out_channels: int,\n",
        "        kernel_size: Union[int, Iterable[int]],\n",
        "        padding = 0,\n",
        "        bias: bool = True,\n",
        "    ):\n",
        "        super().__init__()\n",
        "        self.in_channels = in_channels\n",
        "        self.out_channels = out_channels\n",
        "        self.kernel_size = kernel_size\n",
        "        self.padding = padding\n",
        "        self.use_bias = bias\n",
        "\n",
        "        #convert to a tuple\n",
        "        kernel_size = 2 * (kernel_size,)\n",
        "        weight = torch.randn(out_channels, in_channels, *kernel_size)\n",
        "\n",
        "        self.weight = nn.Parameter(weight)\n",
        "        self.bias = nn.Parameter(torch.zeros(out_channels)) if bias else None\n",
        "\n",
        "    def forward(self, image):\n",
        "        return my_fft_conv(\n",
        "            image,\n",
        "            self.weight,\n",
        "            bias=self.bias,\n",
        "            padding=self.padding,\n",
        "        )"
      ]
    },
    {
      "cell_type": "code",
      "source": [
        "import numpy as np\n",
        "\n",
        "def conv2d(image, kernel, bias, stride=1, padding=0):\n",
        "  # Get the dimensions of the input image, kernel, and bias\n",
        "  batch_size, input_channel, input_height, input_width = image.shape\n",
        "  output_channel, input_channel, kernel_height, kernel_width = kernel.shape\n",
        "  output_channel, = bias.shape\n",
        "\n",
        "  # Calculate the size of the output image\n",
        "  output_height = (input_height - kernel_height + 2 * padding) // stride + 1\n",
        "  output_width = (input_width - kernel_width + 2 * padding) // stride + 1\n",
        "\n",
        "  # The array to store the convolved image\n",
        "  result = torch.zeros(batch_size, output_channel, output_height, output_width)\n",
        "\n",
        "  # Iterate over the batch\n",
        "  for b in range(batch_size):\n",
        "    # Iterate the output image\n",
        "    for o in range(output_channel):\n",
        "      # Iterateeach position in the output image\n",
        "      for h in range(output_height):\n",
        "        for w in range(output_width):\n",
        "          # Calculate the start and end positions of the kernel\n",
        "          # on the input image\n",
        "          h_start = h * stride\n",
        "          h_end = h_start + kernel_height\n",
        "          w_start = w * stride\n",
        "          w_end = w_start + kernel_width\n",
        "\n",
        "          image = image.to(device)\n",
        "          kernel = kernel.to(device)\n",
        "          result = result.to(device)\n",
        "\n",
        "          input_subarray = image[b, :, h_start:h_end, w_start:w_end]\n",
        "\n",
        "          # Compute the dot product\n",
        "          # add bias\n",
        "          result[b, o, h, w] = torch.sum(input_subarray * kernel[o]) + bias[o]\n",
        "\n",
        "  return result\n"
      ],
      "metadata": {
        "id": "z56yn0GAtyZr"
      },
      "execution_count": 6,
      "outputs": []
    },
    {
      "cell_type": "markdown",
      "source": [
        "**Expriment**"
      ],
      "metadata": {
        "id": "AW0_oX4lLgzb"
      }
    },
    {
      "cell_type": "markdown",
      "source": [
        "**Input size vs Time**"
      ],
      "metadata": {
        "id": "NzgbbY_qLlRL"
      }
    },
    {
      "cell_type": "code",
      "source": [
        "\"\"\"\"This section is varying the input size. For the simplexity, we choose batch size  = 1 kernel size = 7\n",
        "    input channel = 1 output channel = 3. The range of the kernel is from 7 to 50.(Consist with paper) \"\"\"\n",
        "Naive_time_list = []\n",
        "FFT_time_list = []\n",
        "\n",
        "MIN_INPUT_SIZE = 7\n",
        "MAX_INPUT_SIZE = 50\n",
        "epoch = 20\n",
        "input_size_list = list(range(MIN_INPUT_SIZE, MAX_INPUT_SIZE,5 ))\n",
        "\n",
        "for input_size in tqdm(input_size_list):\n",
        "    Naive_time = np.zeros(epoch)\n",
        "    FFT_time = np.zeros(epoch)\n",
        "    for run in range(epoch):\n",
        "        #define a conv in pytorch\n",
        "        #initialze the weight and bias in FFT and Naive \n",
        "        conv = nn.Conv2d(1, 3, 7)\n",
        "        FFT_conv = FFTConv2d(1,3,7)\n",
        "\n",
        "        #define input image\n",
        "        input_image = torch.randint(low=0, high=10, size=(1, 1, input_size, input_size),  dtype=torch.float32)\n",
        "\n",
        "        #initialize the weight and bias for FFT\n",
        "        conv.weight = nn.Parameter(torch.randint(low=0, high=10, size=(3, 1, 7, 7),  dtype=torch.float32))\n",
        "        FFT_conv.weight = conv.weight\n",
        "        FFT_conv.bias = conv.bias\n",
        "\n",
        "        #timing the output of FFT\n",
        "        start = time()\n",
        "        FFT_out = FFT_conv(input_image)\n",
        "        FFT_time[run] = time() - start\n",
        "\n",
        "        #initialize the weight and bias for Naive one\n",
        "        kernel = conv.weight.detach()\n",
        "        bias = conv.bias.detach()\n",
        "        \n",
        "        #timing the output of Naive\n",
        "        start = time()\n",
        "        Naive_conv = conv2d(input_image, kernel, bias)\n",
        "        Naive_time[run] = time() - start\n",
        "        \n",
        "    Naive_time_list.append(Naive_time.mean())\n",
        "    FFT_time_list.append(FFT_time.mean())\n",
        "\n"
      ],
      "metadata": {
        "id": "tE36r3F-FJ3T",
        "colab": {
          "base_uri": "https://localhost:8080/"
        },
        "outputId": "40257000-6d7a-4c79-b4b0-b3b3e8a808ff"
      },
      "execution_count": 7,
      "outputs": [
        {
          "output_type": "stream",
          "name": "stderr",
          "text": [
            "100%|██████████| 9/9 [00:31<00:00,  3.54s/it]\n"
          ]
        }
      ]
    },
    {
      "cell_type": "code",
      "source": [
        "plt.plot(input_size_list, Naive_time_list,\n",
        "         label='Naive Convolution', color='red')\n",
        "plt.plot(input_size_list, FFT_time_list,\n",
        "         label='FFT Convolution', color='blue')\n",
        "\n",
        "plt.xlabel('Size of Input (n x n)')\n",
        "plt.ylabel('Execution Time (secs)')\n",
        "plt.yscale(\"log\")\n",
        "plt.legend()\n",
        "plt.show()"
      ],
      "metadata": {
        "id": "HfeE5R7tonap",
        "colab": {
          "base_uri": "https://localhost:8080/",
          "height": 279
        },
        "outputId": "7b933e07-f9de-486e-b8fd-00365b1ca1fa"
      },
      "execution_count": 8,
      "outputs": [
        {
          "output_type": "display_data",
          "data": {
            "text/plain": [
              "<Figure size 432x288 with 1 Axes>"
            ],
            "image/png": "[encoded data removed]"
          },
          "metadata": {
            "needs_background": "light"
          }
        }
      ]
    },
    {
      "cell_type": "markdown",
      "source": [
        "**Kernel Size vs Time**"
      ],
      "metadata": {
        "id": "AdHiCisF3lb0"
      }
    },
    {
      "cell_type": "code",
      "source": [
        "\"\"\"\"This section is varying the kernel size. For the simplexity, we choose batch size = 1, input channel = 1 output channel = 3\n",
        "    input size of the image is 32 x 32. The range of the kernel is from 2 to 14.(Consist with paper) \"\"\"\n",
        "Naive_time_list = []\n",
        "FFT_time_list = []\n",
        "\n",
        "MIN_KERNEL_SIZE = 2\n",
        "MAX_KERNEL_SIZE = 14\n",
        "epoch = 20\n",
        "kernel_sizes = list(range(MIN_KERNEL_SIZE, MAX_KERNEL_SIZE, 2))\n",
        "\n",
        "for kernel_size in tqdm(kernel_sizes):\n",
        "    Naive_time = np.zeros(epoch)\n",
        "    FFT_time = np.zeros(epoch)\n",
        "    for run in range(epoch):\n",
        "        #define a conv in pytorch\n",
        "        #initialze the weight and bias in FFT and Naive \n",
        "        conv = nn.Conv2d(1, 3, kernel_size)\n",
        "        FFT_conv = FFTConv2d(1,3,kernel_size)\n",
        "        #define input image\n",
        "        input_image = torch.randint(low=0, high=10, size=(1, 1, 32, 32),  dtype=torch.float32)\n",
        "        #initialize the weight and bias for FFT\n",
        "        conv.weight = nn.Parameter(torch.randint(low=0, high=10, size=(3, 1, kernel_size, kernel_size),  dtype=torch.float32))\n",
        "        FFT_conv.weight = conv.weight\n",
        "        FFT_conv.bias = conv.bias\n",
        "\n",
        "        #timing the output of FFT\n",
        "        start = time()\n",
        "        FFT_out = FFT_conv(input_image )\n",
        "        FFT_time[run] = time() - start\n",
        "\n",
        "        #initialize the weight and bias for Naive one\n",
        "        kernel = conv.weight.detach()\n",
        "        bias = conv.bias.detach()\n",
        "\n",
        "        #timing the output of Naive\n",
        "        start = time()\n",
        "        Naive_conv = conv2d(input_image, kernel, bias)\n",
        "        Naive_time[run] = time() - start\n",
        "        \n",
        "    Naive_time_list.append(Naive_time.mean())\n",
        "    FFT_time_list.append(FFT_time.mean())\n"
      ],
      "metadata": {
        "id": "GweO_aKD3yuo",
        "colab": {
          "base_uri": "https://localhost:8080/"
        },
        "outputId": "9bcc5836-bdba-4487-92b9-9366460919d7"
      },
      "execution_count": 9,
      "outputs": [
        {
          "output_type": "stream",
          "name": "stderr",
          "text": [
            "100%|██████████| 6/6 [00:13<00:00,  2.29s/it]\n"
          ]
        }
      ]
    },
    {
      "cell_type": "code",
      "source": [
        "plt.plot(kernel_sizes, Naive_time_list,\n",
        "         label='Custom Conv 2D', color='red')\n",
        "plt.plot(kernel_sizes, FFT_time_list,\n",
        "         label='FFT Conv 2D', color='blue')\n",
        "\n",
        "plt.xlabel('Kernel Size')\n",
        "plt.ylabel('Execution Time (secs)')\n",
        "plt.yscale(\"log\")\n",
        "plt.legend()\n",
        "plt.show()"
      ],
      "metadata": {
        "id": "bdav69awmfaF",
        "colab": {
          "base_uri": "https://localhost:8080/",
          "height": 279
        },
        "outputId": "418bc915-f2ad-4e02-dd6b-7aaedd3a4815"
      },
      "execution_count": 10,
      "outputs": [
        {
          "output_type": "display_data",
          "data": {
            "text/plain": [
              "<Figure size 432x288 with 1 Axes>"
            ],
            "image/png": "[encoded data removed]"
          },
          "metadata": {
            "needs_background": "light"
          }
        }
      ]
    },
    {
      "cell_type": "markdown",
      "source": [
        "**Batch Size vs time**"
      ],
      "metadata": {
        "id": "Jc8XY1Vy3pkY"
      }
    },
    {
      "cell_type": "code",
      "source": [
        "\"\"\"\"This section is varying the batch size. For the simplexity, we choose input size = 32 kernel size = 7\n",
        "    input channel = 1 output channel = 3. The range of the batch size is from 1 to 10.(Consist with paper) \"\"\"\n",
        "Naive_time_list = []\n",
        "FFT_time_list = []\n",
        "\n",
        "MIN_BATCH_SIZE = 1\n",
        "MAX_BATCH_SIZE = 10\n",
        "epoch = 20\n",
        "batch_size_list = list(range(MIN_BATCH_SIZE, MAX_BATCH_SIZE,1))\n",
        "\n",
        "for batch_size in tqdm(batch_size_list):\n",
        "    \n",
        "    Naive_time = np.zeros(epoch)\n",
        "    FFT_time = np.zeros(epoch)\n",
        "    for run in range(epoch):\n",
        "        #define a conv in pytorch\n",
        "        #initialze the weight and bias in FFT and Naive \n",
        "        \n",
        "        conv = nn.Conv2d(1, 3, 7)\n",
        "        FFT_conv = FFTConv2d(1,3,7)\n",
        "        #define input image\n",
        "        \n",
        "        input_image = torch.randint(low=0, high=10, size=(batch_size, 1, 32, 32),  dtype=torch.float32)\n",
        "        #initialize the weight and bias for FFT\n",
        "        \n",
        "        conv.weight = nn.Parameter(torch.randint(low=0, high=10, size=(3, 1, 7, 7),  dtype=torch.float32))\n",
        "        FFT_conv.weight = conv.weight\n",
        "        FFT_conv.bias = conv.bias\n",
        "        \n",
        "        #timing the output of FFT\n",
        "        start = time()\n",
        "        FFT_out = FFT_conv(input_image)\n",
        "        FFT_time[run] = time() - start\n",
        "        #initialize the weight and bias for Naive one\n",
        "        \n",
        "        kernel = conv.weight.detach()\n",
        "        bias = conv.bias.detach()\n",
        "        #timing the output of Naive\n",
        "        start = time()\n",
        "        Naive_conv = conv2d(input_image, kernel, bias)\n",
        "        Naive_time[run] = time() - start\n",
        "        \n",
        "    Naive_time_list.append(Naive_time.mean())\n",
        "    FFT_time_list.append(FFT_time.mean())\n"
      ],
      "metadata": {
        "id": "8Er9KmBxjorB",
        "colab": {
          "base_uri": "https://localhost:8080/"
        },
        "outputId": "73b83b5c-a810-471d-a848-0e6a5a395241"
      },
      "execution_count": 11,
      "outputs": [
        {
          "output_type": "stream",
          "name": "stderr",
          "text": [
            "100%|██████████| 9/9 [01:40<00:00, 11.21s/it]\n"
          ]
        }
      ]
    },
    {
      "cell_type": "code",
      "source": [
        "plt.plot(batch_size_list, Naive_time_list,\n",
        "         label='Naive Convolution', color='r')\n",
        "plt.plot(batch_size_list, FFT_time_list,\n",
        "         label='FFT Convolution', color='b')\n",
        "\n",
        "plt.xlabel('Batch size')\n",
        "plt.ylabel('Execution Time (secs)')\n",
        "plt.yscale(\"log\")\n",
        "plt.legend()\n",
        "plt.show()"
      ],
      "metadata": {
        "id": "jF2cSPU1ojCg",
        "colab": {
          "base_uri": "https://localhost:8080/",
          "height": 279
        },
        "outputId": "eb4a405e-5d10-41f9-f77b-f46a734e002c"
      },
      "execution_count": 12,
      "outputs": [
        {
          "output_type": "display_data",
          "data": {
            "text/plain": [
              "<Figure size 432x288 with 1 Axes>"
            ],
            "image/png": "[encoded data removed]"
          },
          "metadata": {
            "needs_background": "light"
          }
        }
      ]
    },
    {
      "cell_type": "code",
      "source": [],
      "metadata": {
        "id": "0VvvqHx_3Z5k"
      },
      "execution_count": 12,
      "outputs": []
    }
  ],
  "metadata": {
    "colab": {
      "machine_shape": "hm",
      "provenance": []
    },
    "gpuClass": "premium",
    "kernelspec": {
      "display_name": "Python 3 (ipykernel)",
      "language": "python",
      "name": "python3"
    },
    "language_info": {
      "codemirror_mode": {
        "name": "ipython",
        "version": 3
      },
      "file_extension": ".py",
      "mimetype": "text/x-python",
      "name": "python",
      "nbconvert_exporter": "python",
      "pygments_lexer": "ipython3",
      "version": "3.9.7"
    },
    "accelerator": "GPU"
  },
  "nbformat": 4,
  "nbformat_minor": 0
}