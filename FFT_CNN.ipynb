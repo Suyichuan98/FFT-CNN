{
  "cells": [
    {
      "cell_type": "code",
      "execution_count": null,
      "id": "40636888",
      "metadata": {
        "id": "40636888"
      },
      "outputs": [],
      "source": [
        "import sys\n",
        "import math\n",
        "import torch\n",
        "from tqdm import tqdm\n",
        "import torch.nn as nn\n",
        "import torch.nn.functional as F\n",
        "import torch.nn.functional as f\n",
        "import torchvision\n",
        "import numpy as np\n",
        "import copy\n",
        "import os\n",
        "from torchvision import datasets, models, transforms\n",
        "from pathlib import Path\n",
        "from functools import partial\n",
        "from typing import Iterable, Tuple, Union,Callable, NamedTuple,Dict, Iterable, List, Optional, Sequence, Union, Any, cast\n",
        "import torch\n",
        "import torch.nn as nn\n",
        "from torch import Tensor, nn\n",
        "import torch.optim as optim\n",
        "from torch.fft import irfftn, rfftn\n",
        "import matplotlib.pyplot as plt"
      ]
    },
    {
      "cell_type": "code",
      "source": [
        "import tensorflow as tf\n",
        "gpu_devices = tf.config.list_physical_devices('GPU')\n",
        "if gpu_devices:\n",
        "  details = tf.config.experimental.get_device_details(gpu_devices[0])\n",
        "  details.get('device_name', 'Unknown GPU')\n",
        "print(details)"
      ],
      "metadata": {
        "colab": {
          "base_uri": "https://localhost:8080/"
        },
        "id": "mIgKLEJKGDiu",
        "outputId": "af364233-7785-44de-9279-bd79a97005a6"
      },
      "id": "mIgKLEJKGDiu",
      "execution_count": 3,
      "outputs": [
        {
          "output_type": "stream",
          "name": "stdout",
          "text": [
            "{'compute_capability': (8, 0), 'device_name': 'A100-SXM4-40GB'}\n"
          ]
        }
      ]
    },
    {
      "cell_type": "code",
      "source": [
        "transform = transforms.Compose(\n",
        "    [transforms.ToTensor(),\n",
        "     transforms.Normalize((0.5, 0.5, 0.5), (0.5, 0.5, 0.5))])"
      ],
      "metadata": {
        "id": "fCGdjTUkhm_U"
      },
      "id": "fCGdjTUkhm_U",
      "execution_count": null,
      "outputs": []
    },
    {
      "cell_type": "code",
      "source": [
        "device = torch.device(\"cuda:0\" if torch.cuda.is_available() else \"cpu\")"
      ],
      "metadata": {
        "id": "t4B1Tr6A15Ag"
      },
      "id": "t4B1Tr6A15Ag",
      "execution_count": null,
      "outputs": []
    },
    {
      "cell_type": "code",
      "source": [
        "def complex_matmul(a: Tensor, b: Tensor) -> Tensor:\n",
        "    #doing complex multiplication\n",
        "    scalar_matmul = partial(torch.einsum, \"ab..., cb... -> ac...\")\n",
        "    real_part = scalar_matmul(a.real, b.real) - scalar_matmul(a.imag, b.imag)\n",
        "    imag_part = scalar_matmul(a.imag, b.real) + scalar_matmul(a.real, b.imag)\n",
        "    result = torch.zeros(real_part.shape, dtype=torch.complex64, device=a.device)\n",
        "    result.real, result.imag = real_part, imag_part\n",
        "    return result\n",
        "def my_fft_conv(\n",
        "    image: Tensor,\n",
        "    kernel: Tensor,\n",
        "    bias: Tensor = None,\n",
        "    padding = 0,\n",
        ") -> Tensor:\n",
        "\n",
        "    # convert into tuple\n",
        "    padding = (image.ndim - 2) * (0,)\n",
        "\n",
        "    # Pad the tensors\n",
        "    image_padding = [p for p in padding[::-1] for _ in range(2)]\n",
        "    image = f.pad(image, image_padding)\n",
        "\n",
        "    if image.size(-1) % 2 != 0:\n",
        "        image_ = f.pad(image, [0, 1])\n",
        "    else:\n",
        "        image_ = image\n",
        "    # Padding for kernel\n",
        "    kernel_padding = [pad for i in reversed(range(2, image_.ndim)) for pad in [0, image_.size(i) - kernel.size(i)]]\n",
        "    padded_kernel = f.pad(kernel, kernel_padding)\n",
        "\n",
        "    # fourier convolution\n",
        "    dim = tuple(range(2, image.ndim))\n",
        "    image_ = image_.to(device)\n",
        "    padded_kernel = padded_kernel.to(device)\n",
        "    bias = bias.to(device)\n",
        "    #FFT\n",
        "    image_fft = rfftn(image_, dim=dim)\n",
        "    kernel_fft = rfftn(padded_kernel, dim=dim)\n",
        "    #complex mutiplication\n",
        "    kernel_fft.imag *= -1\n",
        "    output_fft = complex_matmul(image_fft, kernel_fft)\n",
        "    #inverse FFT\n",
        "    output = irfftn(output_fft, dim=dim)\n",
        "\n",
        "    # Remove extra padded values\n",
        "    crop_slices = [slice(0, output.size(0)), slice(0, output.size(1))] + [\n",
        "        slice(0, (image.size(i) - kernel.size(i) + 1))\n",
        "        for i in range(2, image.ndim)\n",
        "    ]\n",
        "    output = output[crop_slices].contiguous()\n",
        "\n",
        "    # add a bias term before returning.\n",
        "    if bias is not None:\n",
        "        bias_shape = tuple([1, -1] + (image.ndim - 2) * [1])\n",
        "        output += bias.view(bias_shape)\n",
        "\n",
        "    return output\n",
        "class FFTConv2d(nn.Module):\n",
        "    \"\"\"FFT convolution layers.\"\"\"\n",
        "\n",
        "    def __init__(\n",
        "        self,\n",
        "        in_channels: int,\n",
        "        out_channels: int,\n",
        "        kernel_size: Union[int, Iterable[int]],\n",
        "        padding = 0,\n",
        "        bias: bool = True,\n",
        "    ):\n",
        "        super().__init__()\n",
        "        self.in_channels = in_channels\n",
        "        self.out_channels = out_channels\n",
        "        self.kernel_size = kernel_size\n",
        "        self.padding = padding\n",
        "        self.use_bias = bias\n",
        "\n",
        "        #convert to a tuple\n",
        "        kernel_size = 2 * (kernel_size,)\n",
        "        weight = torch.randn(out_channels, in_channels, *kernel_size)\n",
        "\n",
        "        self.weight = nn.Parameter(weight)\n",
        "        self.bias = nn.Parameter(torch.zeros(out_channels)) if bias else None\n",
        "\n",
        "    def forward(self, image):\n",
        "        return my_fft_conv(\n",
        "            image,\n",
        "            self.weight,\n",
        "            bias=self.bias,\n",
        "            padding=self.padding,\n",
        "        )\n",
        "import numpy as np\n",
        "\n",
        "def naive_conv2d(image, kernel, bias, stride=1, padding=0):\n",
        "  # Get the dimensions of the input image, kernel, and bias\n",
        "  batch_size, input_channel, input_height, input_width = image.shape\n",
        "  output_channel, input_channel, kernel_height, kernel_width = kernel.shape\n",
        "  output_channel, = bias.shape\n",
        "\n",
        "  # Calculate the size of the output image\n",
        "  output_height = (input_height - kernel_height + 2 * padding) // stride + 1\n",
        "  output_width = (input_width - kernel_width + 2 * padding) // stride + 1\n",
        "\n",
        "  # Create a zero-initialized array to store the convolved image\n",
        "  result = torch.zeros(batch_size, output_channel, output_height, output_width)\n",
        "\n",
        "  # Iterate over the batch\n",
        "  for b in range(batch_size):\n",
        "    # Iterate the output image\n",
        "    for o in range(output_channel):\n",
        "      # Iterateeach position in the output image\n",
        "      for h in range(output_height):\n",
        "        for w in range(output_width):\n",
        "          # Calculate the start and end positions of the kernel\n",
        "          # on the input image\n",
        "          h_start = h * stride\n",
        "          h_end = h_start + kernel_height\n",
        "          w_start = w * stride\n",
        "          w_end = w_start + kernel_width\n",
        "\n",
        "          image = image.to(device)\n",
        "          kernel = kernel.to(device)\n",
        "          result = result.to(device)\n",
        "\n",
        "          input_subarray = image[b, :, h_start:h_end, w_start:w_end]\n",
        "\n",
        "          # Compute the dot product of the subarray with the kernel\n",
        "          # add bias\n",
        "          result[b, o, h, w] = torch.sum(input_subarray * kernel[o]) + bias[o]\n",
        "\n",
        "  return result\n"
      ],
      "metadata": {
        "id": "L4SNjGDbis9W"
      },
      "id": "L4SNjGDbis9W",
      "execution_count": null,
      "outputs": []
    },
    {
      "cell_type": "code",
      "source": [
        "class NaiveConv2d(nn.Module):\n",
        "    def __init__(\n",
        "        self,\n",
        "        in_channels: int,\n",
        "        out_channels: int,\n",
        "        kernel_size: Union[int, Iterable[int]],\n",
        "        padding = 0,\n",
        "        bias: bool = True,\n",
        "    ):\n",
        "        super().__init__()\n",
        "        self.in_channels = in_channels\n",
        "        self.out_channels = out_channels\n",
        "        self.kernel_size = kernel_size\n",
        "        self.padding = padding\n",
        "        self.use_bias = bias\n",
        "\n",
        "        #convert to a tuple\n",
        "        kernel_size = 2 * (kernel_size,)\n",
        "        weight = torch.randn(out_channels, in_channels, *kernel_size)\n",
        "\n",
        "        self.weight = nn.Parameter(weight)\n",
        "        self.bias = nn.Parameter(torch.zeros(out_channels)) if bias else None\n",
        "    def forward(self, image):\n",
        "        return naive_conv2d(\n",
        "            image,\n",
        "            self.weight,\n",
        "            bias=self.bias,\n",
        "        )"
      ],
      "metadata": {
        "id": "3_-29B0W_5zH"
      },
      "id": "3_-29B0W_5zH",
      "execution_count": null,
      "outputs": []
    },
    {
      "cell_type": "code",
      "source": [
        "class Net(nn.Module):\n",
        "  # using nn.Conv2d\n",
        "    def __init__(self, input_size, kernel_size):\n",
        "        super().__init__()\n",
        "        self.conv1 = torch.nn.Conv2d(3,16,kernel_size)\n",
        "        self.pool = nn.MaxPool2d(2, 2)\n",
        "        fc1_input = (math.floor((input_size - kernel_size + 1 ) / 2) **2) * 16\n",
        "        self.fc1 = nn.Linear(fc1_input, 120)\n",
        "        self.fc2 = nn.Linear(120, 84)\n",
        "        self.fc3 = nn.Linear(84, 10)\n",
        "\n",
        "    def forward(self, x):\n",
        "        x = self.pool(F.relu(self.conv1(x)))\n",
        "        x = torch.flatten(x, 1)\n",
        "        x = F.relu(self.fc1(x))\n",
        "        x = F.relu(self.fc2(x))\n",
        "        x = self.fc3(x)\n",
        "        return x"
      ],
      "metadata": {
        "id": "VZfaiff2PoJc"
      },
      "id": "VZfaiff2PoJc",
      "execution_count": null,
      "outputs": []
    },
    {
      "cell_type": "code",
      "source": [
        "class FFT_Net(nn.Module):\n",
        "    def __init__(self, input_size, kernel_size):\n",
        "        super().__init__()\n",
        "        self.conv1 = FFTConv2d(3,16,kernel_size)\n",
        "        self.pool = nn.MaxPool2d(2, 2)\n",
        "        #update the input size for the first linear layer\n",
        "        fc_input = (math.floor((input_size - kernel_size + 1 ) / 2) **2) * 16\n",
        "        self.fc1 = nn.Linear(fc_input, 120)\n",
        "        self.fc2 = nn.Linear(120, 84)\n",
        "        self.fc3 = nn.Linear(84, 10)\n",
        "\n",
        "    def forward(self, x):\n",
        "        x = self.pool(F.relu(self.conv1(x)))\n",
        "        x = torch.flatten(x, 1)\n",
        "        x = F.relu(self.fc1(x))\n",
        "        x = F.relu(self.fc2(x))\n",
        "        x = self.fc3(x)\n",
        "        return x"
      ],
      "metadata": {
        "id": "-5OwTunA_PSe"
      },
      "id": "-5OwTunA_PSe",
      "execution_count": null,
      "outputs": []
    },
    {
      "cell_type": "code",
      "source": [
        "class NaiveNet(nn.Module):\n",
        "    def __init__(self, input_size, kernel_size):\n",
        "        super().__init__()\n",
        "        fc1_size = (math.floor((input_size - kernel_size + 1 ) / 2) **2) * 16\n",
        "        self.conv1 = NaiveConv2d(3, 16, kernel_size)\n",
        "        self.pool = nn.MaxPool2d(2, 2)\n",
        "        self.fc1 = nn.Linear(fc1_size, 120)\n",
        "        self.fc2 = nn.Linear(120, 84)\n",
        "        self.fc3 = nn.Linear(84, 10)\n",
        "\n",
        "    def forward(self, x):\n",
        "        x = self.pool(F.relu(self.conv1(x)))\n",
        "        # flatten all dimensions except batch\n",
        "        x = torch.flatten(x, 1)\n",
        "        x = F.relu(self.fc1(x))\n",
        "        x = F.relu(self.fc2(x))\n",
        "        x = self.fc3(x)\n",
        "        return x"
      ],
      "metadata": {
        "id": "VLyHY3tP_sLi"
      },
      "id": "VLyHY3tP_sLi",
      "execution_count": null,
      "outputs": []
    },
    {
      "cell_type": "code",
      "source": [
        "#Test for Net\n",
        "criterion = nn.CrossEntropyLoss() # TODO create criterion\n",
        "\n",
        "start = torch.cuda.Event(enable_timing=True)\n",
        "end = torch.cuda.Event(enable_timing=True)\n",
        "\n",
        "Net_updateoutput = []\n",
        "Net_updateGradInput = []\n",
        "Net_accGradParameters = []\n",
        "\n",
        "MIN_INPUT_SIZE  = 5\n",
        "MAX_INPUT_SIZE = 60\n",
        "NUM_RUNS = 2\n",
        "input_size_list = list(range(MIN_INPUT_SIZE, MAX_INPUT_SIZE,5 ))\n",
        "# loop over the dataset multiple times\n",
        "for input in tqdm(input_size_list):\n",
        "    trainset = torchvision.datasets.FakeData(size=1, image_size=(3,\n",
        "            input, input), transform=transform)\n",
        "\n",
        "    trainloader = torch.utils.data.DataLoader(trainset,\n",
        "            batch_size=1, shuffle=True, num_workers=2)\n",
        "    net = Net(input,3)\n",
        "    net.to(device)\n",
        "    optimizer = optim.SGD(net.parameters(), lr=0.001, momentum=0.9) # TODO create optimizer\n",
        "    t_out = 0\n",
        "    t_gradinput = 0\n",
        "    t_gradparameters = 0\n",
        "    for epoch in range(NUM_RUNS):\n",
        "      for i, (inputs, labels) in enumerate(trainloader,0):\n",
        "        # get the inputs; data is a list of [inputs, labels]\n",
        "        (inputs, labels) = (inputs.to(device), labels.to(device))\n",
        "\n",
        "\n",
        "      #### training of CNN model using FFT 2D Conv Layer\n",
        "\n",
        "          # zero the parameter gradients\n",
        "        optimizer = optim.SGD(net.parameters(), lr=0.001, momentum=0.9)\n",
        "        optimizer.zero_grad()\n",
        "\n",
        "        # timing update of output\n",
        "        start.record()\n",
        "        outputs= net(inputs)\n",
        "        end.record()\n",
        "        torch.cuda.synchronize()\n",
        "        t_out += start.elapsed_time(end)\n",
        "        # timing the update of gradient input\n",
        "        start.record()\n",
        "        loss = criterion(outputs, labels)\n",
        "        loss.backward()\n",
        "        end.record()\n",
        "        torch.cuda.synchronize()\n",
        "        t_gradinput += start.elapsed_time(end)\n",
        "        # timing the update of gradient parameters\n",
        "        start.record()\n",
        "        optimizer.step()\n",
        "        end.record()\n",
        "        torch.cuda.synchronize()\n",
        "        t_gradparameters += start.elapsed_time(end)\n",
        "\n",
        "    Net_updateoutput.append(t_out/NUM_RUNS)\n",
        "    Net_updateGradInput.append(t_gradinput/NUM_RUNS)\n",
        "    Net_accGradParameters.append(t_gradparameters/NUM_RUNS)\n",
        "\n",
        "net.to(\"cpu\")\n",
        "del net\n"
      ],
      "metadata": {
        "id": "f8VT1hH2Pw5m",
        "colab": {
          "base_uri": "https://localhost:8080/"
        },
        "outputId": "57fbb9bf-f8d2-4ff8-8fa3-ea5c2c3cbd8b"
      },
      "id": "f8VT1hH2Pw5m",
      "execution_count": null,
      "outputs": [
        {
          "output_type": "stream",
          "name": "stderr",
          "text": [
            "100%|██████████| 11/11 [00:16<00:00,  1.52s/it]\n"
          ]
        }
      ]
    },
    {
      "cell_type": "code",
      "source": [
        "#Test for FFT net\n",
        "criterion = nn.CrossEntropyLoss() # TODO create criterion\n",
        "\n",
        "start = torch.cuda.Event(enable_timing=True)\n",
        "end = torch.cuda.Event(enable_timing=True)\n",
        "\n",
        "FFT_updateoutput = []\n",
        "FFT_updateGradInput = []\n",
        "FFT_accGradParameters = []\n",
        "\n",
        "MIN_INPUT_SIZE  = 5\n",
        "MAX_INPUT_SIZE = 60\n",
        "NUM_RUNS = 2\n",
        "input_size_list = list(range(MIN_INPUT_SIZE, MAX_INPUT_SIZE,5 ))\n",
        "# loop over the dataset multiple times\n",
        "for input in tqdm(input_size_list):\n",
        "    trainset = torchvision.datasets.FakeData(size=1, image_size=(3,\n",
        "            input, input), transform=transform)\n",
        "\n",
        "    trainloader = torch.utils.data.DataLoader(trainset,\n",
        "            batch_size=1, shuffle=True, num_workers=2)\n",
        "    FFT_net = FFT_Net(input,3)\n",
        "    FFT_net.to(device)\n",
        "    optimizer = optim.SGD(FFT_net.parameters(), lr=0.001, momentum=0.9) # TODO create optimizer\n",
        "    t_out = 0\n",
        "    t_gradinput = 0\n",
        "    t_gradparameters = 0\n",
        "    for epoch in range(NUM_RUNS):\n",
        "      for i, (inputs, labels) in enumerate(trainloader,0):\n",
        "        # get the inputs; data is a list of [inputs, labels]\n",
        "        (inputs, labels) = (inputs.to(device), labels.to(device))\n",
        "\n",
        "\n",
        "      #### training of CNN model using FFT 2D Conv Layer\n",
        "\n",
        "          # zero the parameter gradients\n",
        "        optimizer = optim.SGD(FFT_net.parameters(), lr=0.001, momentum=0.9)\n",
        "        optimizer.zero_grad()\n",
        "\n",
        "        # timing update of output\n",
        "        start.record()\n",
        "        outputs= FFT_net(inputs)\n",
        "        end.record()\n",
        "        torch.cuda.synchronize()\n",
        "        t_out += start.elapsed_time(end)\n",
        "        # timing the update of gradient input\n",
        "        start.record()\n",
        "        loss = criterion(outputs, labels)\n",
        "        loss.backward()\n",
        "        end.record()\n",
        "        torch.cuda.synchronize()\n",
        "        t_gradinput += start.elapsed_time(end)\n",
        "        # timing the update of gradient parameters\n",
        "        start.record()\n",
        "        optimizer.step()\n",
        "        end.record()\n",
        "        torch.cuda.synchronize()\n",
        "        t_gradparameters += start.elapsed_time(end)\n",
        "\n",
        "    FFT_updateoutput.append(t_out/NUM_RUNS)\n",
        "    FFT_updateGradInput.append(t_gradinput/NUM_RUNS)\n",
        "    FFT_accGradParameters.append(t_gradparameters/NUM_RUNS)\n",
        "\n",
        "FFT_net.to(\"cpu\")\n",
        "del FFT_net\n"
      ],
      "metadata": {
        "id": "ZFIgLuW6hnN4",
        "colab": {
          "base_uri": "https://localhost:8080/"
        },
        "outputId": "885b7f9b-7468-4ef3-e540-f0eb580dda5c"
      },
      "id": "ZFIgLuW6hnN4",
      "execution_count": null,
      "outputs": [
        {
          "output_type": "stream",
          "name": "stderr",
          "text": [
            "100%|██████████| 11/11 [00:03<00:00,  3.21it/s]\n"
          ]
        }
      ]
    },
    {
      "cell_type": "code",
      "source": [
        "#Test for the Naive Net\n",
        "criterion = nn.CrossEntropyLoss() # TODO create criterion\n",
        "\n",
        "start = torch.cuda.Event(enable_timing=True)\n",
        "end = torch.cuda.Event(enable_timing=True)\n",
        "\n",
        "Naive_updateoutput = []\n",
        "Naive_updateGradInput = []\n",
        "Naive_accGradParameters = []\n",
        "\n",
        "MIN_INPUT_SIZE  = 5\n",
        "MAX_INPUT_SIZE = 60\n",
        "NUM_RUNS = 2\n",
        "input_size_list = list(range(MIN_INPUT_SIZE, MAX_INPUT_SIZE,5 ))\n",
        "\n",
        "# loop over the dataset multiple times\n",
        "for input in tqdm(input_size_list):\n",
        "    trainset = torchvision.datasets.FakeData(size=1, image_size=(3,\n",
        "            input, input), transform=transform)\n",
        "\n",
        "    trainloader = torch.utils.data.DataLoader(trainset,\n",
        "            batch_size=1, shuffle=True, num_workers=2)\n",
        "\n",
        "    Naive_Net = NaiveNet(input,3)\n",
        "    Naive_Net.to(device)\n",
        "    optimizer = optim.SGD(Naive_Net.parameters(), lr=0.001, momentum=0.9) # TODO create optimizer\n",
        "    t_out = 0\n",
        "    t_gradinput = 0\n",
        "    t_gradparameters = 0\n",
        "    for epoch in range(NUM_RUNS):\n",
        "      for i, (inputs, labels) in enumerate(trainloader,0):\n",
        "        # get the inputs; data is a list of [inputs, labels]\n",
        "        (inputs, labels) = (inputs.to(device), labels.to(device))\n",
        "\n",
        "\n",
        "      #### training of CNN model using FFT 2D Conv Layer\n",
        "\n",
        "          # zero the parameter gradients\n",
        "        optimizer.zero_grad()\n",
        "\n",
        "        # timing update of output\n",
        "        start.record()\n",
        "        outputs= Naive_Net(inputs)\n",
        "        end.record()\n",
        "        torch.cuda.synchronize()\n",
        "        t_out += start.elapsed_time(end)\n",
        "        # timing the update of gradient input\n",
        "        start.record()\n",
        "        loss = criterion(outputs, labels)\n",
        "        loss.backward()\n",
        "        end.record()\n",
        "        torch.cuda.synchronize()\n",
        "        t_gradinput += start.elapsed_time(end)\n",
        "        # timing the update of gradient parameters\n",
        "        start.record()\n",
        "        optimizer.step()\n",
        "        end.record()\n",
        "        torch.cuda.synchronize()\n",
        "        t_gradparameters += start.elapsed_time(end)\n",
        "\n",
        "    Naive_updateoutput.append(t_out/NUM_RUNS)\n",
        "    Naive_updateGradInput.append(t_gradinput/NUM_RUNS)\n",
        "    Naive_accGradParameters.append(t_gradparameters/NUM_RUNS)\n",
        "\n",
        "Naive_Net.to(\"cpu\")\n",
        "del Naive_Net\n"
      ],
      "metadata": {
        "id": "15lXMjCwEtMH",
        "colab": {
          "base_uri": "https://localhost:8080/"
        },
        "outputId": "1dbae904-35f3-40a6-fc17-194902abfa13"
      },
      "id": "15lXMjCwEtMH",
      "execution_count": null,
      "outputs": [
        {
          "output_type": "stream",
          "name": "stderr",
          "text": [
            "100%|██████████| 11/11 [01:20<00:00,  7.36s/it]\n"
          ]
        }
      ]
    },
    {
      "cell_type": "code",
      "source": [
        "## Plotting for input size vs running times\n",
        "plt.plot(input_size_list, FFT_updateoutput, label='FFT Conv 2D', color='red')\n",
        "plt.plot(input_size_list, Naive_updateoutput, label='Naive Conv 2D', color='blue')\n",
        "plt.plot(input_size_list, Net_updateoutput, label='Pytorch Conv 2D', color='green')\n",
        "\n",
        "plt.xlabel('Input Sizes')\n",
        "plt.ylabel('Execution Time (secs)')\n",
        "plt.legend()\n",
        "plt.title(\"updateoutput: Input Sizes vs time\")\n",
        "plt.show()"
      ],
      "metadata": {
        "colab": {
          "base_uri": "https://localhost:8080/",
          "height": 295
        },
        "id": "NJ_hlPsT08kN",
        "outputId": "dad8d2fb-5673-4650-ab5f-00f357d698f5"
      },
      "id": "NJ_hlPsT08kN",
      "execution_count": null,
      "outputs": [
        {
          "output_type": "display_data",
          "data": {
            "text/plain": [
              "<Figure size 432x288 with 1 Axes>"
            ],
            "image/png": "[encoded data removed]"
          },
          "metadata": {
            "needs_background": "light"
          }
        }
      ]
    },
    {
      "cell_type": "code",
      "source": [
        "plt.plot(input_size_list, FFT_updateGradInput, label='FFT Conv 2D', color='red')\n",
        "plt.plot(input_size_list, Naive_updateGradInput, label='Naive Conv 2D', color='blue')\n",
        "plt.plot(input_size_list, Net_updateGradInput, label='Pytorch Conv 2D', color='green')\n",
        "\n",
        "\n",
        "plt.xlabel('Input Sizes')\n",
        "plt.ylabel('Execution Time (secs)')\n",
        "plt.legend()\n",
        "plt.title(\"updateGradInput: Input Sizes vs time\")\n",
        "plt.show()"
      ],
      "metadata": {
        "colab": {
          "base_uri": "https://localhost:8080/",
          "height": 295
        },
        "id": "Qk8DFxJ_xkvi",
        "outputId": "63bf1e94-ab15-466f-90b9-9dafc1eeaebf"
      },
      "id": "Qk8DFxJ_xkvi",
      "execution_count": null,
      "outputs": [
        {
          "output_type": "display_data",
          "data": {
            "text/plain": [
              "<Figure size 432x288 with 1 Axes>"
            ],
            "image/png": "[encoded data removed]"
          },
          "metadata": {
            "needs_background": "light"
          }
        }
      ]
    },
    {
      "cell_type": "code",
      "source": [
        "plt.plot(input_size_list, FFT_accGradParameters, label='FFT Conv 2D', color='red')\n",
        "plt.plot(input_size_list, Naive_accGradParameters, label='Naive Conv 2D', color='blue')\n",
        "plt.plot(input_size_list, Net_accGradParameters, label='Pytorch Conv 2D', color='green')\n",
        "\n",
        "plt.xlabel('Input Sizes')\n",
        "plt.ylabel('Execution Time (secs)')\n",
        "plt.legend()\n",
        "plt.title(\"accGradParameters: Input Sizes vs time\")\n",
        "plt.show()"
      ],
      "metadata": {
        "colab": {
          "base_uri": "https://localhost:8080/",
          "height": 295
        },
        "id": "pZfN6vbyIuTd",
        "outputId": "ba56e42c-1e35-45a3-bc24-0f97efc37436"
      },
      "id": "pZfN6vbyIuTd",
      "execution_count": null,
      "outputs": [
        {
          "output_type": "display_data",
          "data": {
            "text/plain": [
              "<Figure size 432x288 with 1 Axes>"
            ],
            "image/png": "[encoded data removed]"
          },
          "metadata": {
            "needs_background": "light"
          }
        }
      ]
    },
    {
      "cell_type": "code",
      "source": [
        "#Test for net Kernel Size\n",
        "criterion = nn.CrossEntropyLoss() # TODO create criterion\n",
        "\n",
        "start = torch.cuda.Event(enable_timing=True)\n",
        "end = torch.cuda.Event(enable_timing=True)\n",
        "\n",
        "Net_updateoutput = []\n",
        "Net_updateGradInput = []\n",
        "Net_accGradParameters = []\n",
        "\n",
        "MIN_INPUT_SIZE  = 5\n",
        "MAX_INPUT_SIZE = 50\n",
        "NUM_RUNS = 2\n",
        "kernel_size_list = list(range(MIN_INPUT_SIZE, MAX_INPUT_SIZE,5 ))\n",
        "\n",
        "# loop over the dataset multiple times\n",
        "for kernel_size in tqdm(kernel_size_list):\n",
        "    trainset = torchvision.datasets.FakeData(size=1, image_size=(3,\n",
        "            100, 100), transform=transform)\n",
        "\n",
        "    trainloader = torch.utils.data.DataLoader(trainset,\n",
        "            batch_size=1, shuffle=True, num_workers=2)\n",
        "    net = Net(100,kernel_size,)\n",
        "    net.to(device)\n",
        "    optimizer = optim.SGD(net.parameters(), lr=0.001, momentum=0.9) # TODO create optimizer\n",
        "    t_out = 0\n",
        "    t_gradinput = 0\n",
        "    t_gradparameters = 0\n",
        "    for epoch in range(NUM_RUNS):\n",
        "      for i, (inputs, labels) in enumerate(trainloader,0):\n",
        "        # get the inputs; data is a list of [inputs, labels]\n",
        "        (inputs, labels) = (inputs.to(device), labels.to(device))\n",
        "\n",
        "\n",
        "      #### training of CNN model using FFT 2D Conv Layer\n",
        "\n",
        "          # zero the parameter gradients\n",
        "        optimizer.zero_grad()\n",
        "\n",
        "        # timing update of output\n",
        "        start.record()\n",
        "        outputs= net(inputs)\n",
        "        end.record()\n",
        "        torch.cuda.synchronize()\n",
        "        t_out += start.elapsed_time(end)\n",
        "        # timing the update of gradient input\n",
        "        start.record()\n",
        "        loss = criterion(outputs, labels)\n",
        "        loss.backward()\n",
        "        end.record()\n",
        "        torch.cuda.synchronize()\n",
        "        t_gradinput += start.elapsed_time(end)\n",
        "        # timing the update of gradient parameters\n",
        "        start.record()\n",
        "        optimizer.step()\n",
        "        end.record()\n",
        "        torch.cuda.synchronize()\n",
        "        t_gradparameters += start.elapsed_time(end)\n",
        "\n",
        "    Net_updateoutput.append(t_out/NUM_RUNS)\n",
        "    Net_updateGradInput.append(t_gradinput/NUM_RUNS)\n",
        "    Net_accGradParameters.append(t_gradparameters/NUM_RUNS)\n",
        "\n",
        "net.to(\"cpu\")\n",
        "del net\n"
      ],
      "metadata": {
        "id": "2xcE2apeS2iL",
        "colab": {
          "base_uri": "https://localhost:8080/"
        },
        "outputId": "b55c64d8-f69e-4e7f-a868-a37532facddd"
      },
      "id": "2xcE2apeS2iL",
      "execution_count": null,
      "outputs": [
        {
          "output_type": "stream",
          "name": "stderr",
          "text": [
            "100%|██████████| 9/9 [00:03<00:00,  2.50it/s]\n"
          ]
        }
      ]
    },
    {
      "cell_type": "code",
      "source": [
        "#Test for FFT net Kernel Size\n",
        "criterion = nn.CrossEntropyLoss() # TODO create criterion\n",
        "\n",
        "start = torch.cuda.Event(enable_timing=True)\n",
        "end = torch.cuda.Event(enable_timing=True)\n",
        "\n",
        "FFT_updateoutput = []\n",
        "FFT_updateGradInput = []\n",
        "FFT_accGradParameters = []\n",
        "\n",
        "MIN_INPUT_SIZE  = 5\n",
        "MAX_INPUT_SIZE = 50\n",
        "NUM_RUNS = 2\n",
        "kernel_size_list = list(range(MIN_INPUT_SIZE, MAX_INPUT_SIZE,5 ))\n",
        "\n",
        "# loop over the dataset multiple times\n",
        "for kernel_size in tqdm(kernel_size_list):\n",
        "    trainset = torchvision.datasets.FakeData(size=1, image_size=(3,\n",
        "            100, 100), transform=transform)\n",
        "\n",
        "    trainloader = torch.utils.data.DataLoader(trainset,\n",
        "            batch_size=1, shuffle=True, num_workers=2)\n",
        "    FFT_net = FFT_Net(100,kernel_size,)\n",
        "    FFT_net.to(device)\n",
        "    optimizer = optim.SGD(FFT_net.parameters(), lr=0.001, momentum=0.9) # TODO create optimizer\n",
        "    t_out = 0\n",
        "    t_gradinput = 0\n",
        "    t_gradparameters = 0\n",
        "    for epoch in range(NUM_RUNS):\n",
        "      for i, (inputs, labels) in enumerate(trainloader,0):\n",
        "        # get the inputs; data is a list of [inputs, labels]\n",
        "        (inputs, labels) = (inputs.to(device), labels.to(device))\n",
        "\n",
        "\n",
        "      #### training of CNN model using FFT 2D Conv Layer\n",
        "\n",
        "          # zero the parameter gradients\n",
        "        optimizer.zero_grad()\n",
        "\n",
        "        # timing update of output\n",
        "        start.record()\n",
        "        outputs= FFT_net(inputs)\n",
        "        end.record()\n",
        "        torch.cuda.synchronize()\n",
        "        t_out += start.elapsed_time(end)\n",
        "        # timing the update of gradient input\n",
        "        start.record()\n",
        "        loss = criterion(outputs, labels)\n",
        "        loss.backward()\n",
        "        end.record()\n",
        "        torch.cuda.synchronize()\n",
        "        t_gradinput += start.elapsed_time(end)\n",
        "        # timing the update of gradient parameters\n",
        "        start.record()\n",
        "        optimizer.step()\n",
        "        end.record()\n",
        "        torch.cuda.synchronize()\n",
        "        t_gradparameters += start.elapsed_time(end)\n",
        "\n",
        "    FFT_updateoutput.append(t_out/NUM_RUNS)\n",
        "    FFT_updateGradInput.append(t_gradinput/NUM_RUNS)\n",
        "    FFT_accGradParameters.append(t_gradparameters/NUM_RUNS)\n",
        "\n",
        "FFT_net.to(\"cpu\")\n",
        "del FFT_net\n"
      ],
      "metadata": {
        "id": "3oP7xaTaI9Jp",
        "colab": {
          "base_uri": "https://localhost:8080/"
        },
        "outputId": "94be4593-3310-424a-e2b2-02400a19ddb4"
      },
      "id": "3oP7xaTaI9Jp",
      "execution_count": null,
      "outputs": [
        {
          "output_type": "stream",
          "name": "stderr",
          "text": [
            "100%|██████████| 9/9 [00:02<00:00,  3.01it/s]\n"
          ]
        }
      ]
    },
    {
      "cell_type": "code",
      "source": [
        "#Test for the Naive Net\n",
        "criterion = nn.CrossEntropyLoss() # TODO create criterion\n",
        "\n",
        "start = torch.cuda.Event(enable_timing=True)\n",
        "end = torch.cuda.Event(enable_timing=True)\n",
        "\n",
        "Naive_updateoutput = []\n",
        "Naive_updateGradInput = []\n",
        "Naive_accGradParameters = []\n",
        "\n",
        "MIN_INPUT_SIZE  = 5\n",
        "MAX_INPUT_SIZE = 50\n",
        "NUM_RUNS = 2\n",
        "kernel_size_list = list(range(MIN_INPUT_SIZE, MAX_INPUT_SIZE,5 ))\n",
        "\n",
        "# loop over the dataset multiple times\n",
        "for kernel_size in tqdm(kernel_size_list):\n",
        "    trainset = torchvision.datasets.FakeData(size=1, image_size=(3,\n",
        "            100, 100), transform=transform)\n",
        "\n",
        "    trainloader = torch.utils.data.DataLoader(trainset,\n",
        "            batch_size=1, shuffle=True, num_workers=2)\n",
        "\n",
        "    Naive_Net = NaiveNet(100,kernel_size)\n",
        "    Naive_Net.to(device)\n",
        "    optimizer = optim.SGD(Naive_Net.parameters(), lr=0.001, momentum=0.9) # TODO create optimizer\n",
        "    t_out = 0\n",
        "    t_gradinput = 0\n",
        "    t_gradparameters = 0\n",
        "    for epoch in range(NUM_RUNS):\n",
        "      for i, (inputs, labels) in enumerate(trainloader,0):\n",
        "        # get the inputs; data is a list of [inputs, labels]\n",
        "        (inputs, labels) = (inputs.to(device), labels.to(device))\n",
        "\n",
        "\n",
        "      #### training of CNN model using FFT 2D Conv Layer\n",
        "\n",
        "          # zero the parameter gradients\n",
        "        optimizer.zero_grad()\n",
        "\n",
        "        # timing update of output\n",
        "        start.record()\n",
        "        outputs= Naive_Net(inputs)\n",
        "        end.record()\n",
        "        torch.cuda.synchronize()\n",
        "        t_out += start.elapsed_time(end)\n",
        "        # timing the update of gradient input\n",
        "        start.record()\n",
        "        loss = criterion(outputs, labels)\n",
        "        loss.backward()\n",
        "        end.record()\n",
        "        torch.cuda.synchronize()\n",
        "        t_gradinput += start.elapsed_time(end)\n",
        "        # timing the update of gradient parameters\n",
        "        start.record()\n",
        "        optimizer.step()\n",
        "        end.record()\n",
        "        torch.cuda.synchronize()\n",
        "        t_gradparameters += start.elapsed_time(end)\n",
        "\n",
        "    Naive_updateoutput.append(t_out/NUM_RUNS)\n",
        "    Naive_updateGradInput.append(t_gradinput/NUM_RUNS)\n",
        "    Naive_accGradParameters.append(t_gradparameters/NUM_RUNS)\n",
        "\n",
        "Naive_Net.to(\"cpu\")\n",
        "del Naive_Net\n"
      ],
      "metadata": {
        "id": "Kw4E2qFh0l4M",
        "colab": {
          "base_uri": "https://localhost:8080/"
        },
        "outputId": "88bcdc97-0e4b-4219-a753-30fe3e2fe866"
      },
      "id": "Kw4E2qFh0l4M",
      "execution_count": null,
      "outputs": [
        {
          "output_type": "stream",
          "name": "stderr",
          "text": [
            "100%|██████████| 9/9 [06:18<00:00, 42.11s/it]\n"
          ]
        }
      ]
    },
    {
      "cell_type": "code",
      "source": [
        "## Plotting for input size vs running times\n",
        "plt.plot(kernel_size_list, FFT_updateoutput, label='FFT Conv 2D', color='red')\n",
        "plt.plot(kernel_size_list, Naive_updateoutput, label='Naive Conv 2D', color='blue')\n",
        "plt.plot(kernel_size_list, Net_updateoutput, label='Pytorch Conv 2D', color='green')\n",
        "plt.xlabel('Kernel Sizes')\n",
        "plt.ylabel('Execution Time (secs)')\n",
        "plt.legend()\n",
        "plt.title(\"updateoutput: Kernel Sizes vs time\")\n",
        "plt.show()"
      ],
      "metadata": {
        "colab": {
          "base_uri": "https://localhost:8080/",
          "height": 295
        },
        "id": "0lqUaT1X1aDc",
        "outputId": "7da2ccad-897d-4703-fabd-ca8473207421"
      },
      "id": "0lqUaT1X1aDc",
      "execution_count": null,
      "outputs": [
        {
          "output_type": "display_data",
          "data": {
            "text/plain": [
              "<Figure size 432x288 with 1 Axes>"
            ],
            "image/png": "[encoded data removed]"
          },
          "metadata": {
            "needs_background": "light"
          }
        }
      ]
    },
    {
      "cell_type": "code",
      "source": [
        "plt.plot(kernel_size_list, FFT_updateGradInput, label='FFT Conv 2D', color='red')\n",
        "plt.plot(kernel_size_list, Naive_updateGradInput, label='Naive Conv 2D', color='blue')\n",
        "plt.plot(kernel_size_list, Net_updateGradInput, label='Pytorch Conv 2D', color='green')\n",
        "plt.xlabel('Kernel Sizes')\n",
        "plt.ylabel('Execution Time (secs)')\n",
        "plt.legend()\n",
        "plt.title(\"updateGradInput: Kernel Sizes vs time\")\n",
        "plt.show()"
      ],
      "metadata": {
        "colab": {
          "base_uri": "https://localhost:8080/",
          "height": 295
        },
        "id": "xFZPqzdv1bv9",
        "outputId": "9b5a3d80-615e-40a6-e28a-ea12b811af5b"
      },
      "id": "xFZPqzdv1bv9",
      "execution_count": null,
      "outputs": [
        {
          "output_type": "display_data",
          "data": {
            "text/plain": [
              "<Figure size 432x288 with 1 Axes>"
            ],
            "image/png": "[encoded data removed]"
          },
          "metadata": {
            "needs_background": "light"
          }
        }
      ]
    },
    {
      "cell_type": "code",
      "source": [
        "plt.plot(kernel_size_list, FFT_accGradParameters, label='FFT Conv 2D', color='red')\n",
        "plt.plot(kernel_size_list, Naive_accGradParameters, label='Naive Conv 2D', color='blue')\n",
        "plt.plot(kernel_size_list, Net_accGradParameters, label='Pytorch Conv 2D', color='green')\n",
        "plt.xlabel('Kernel Sizes')\n",
        "plt.ylabel('Execution Time (secs)')\n",
        "plt.legend()\n",
        "plt.title(\"accGradParameters: Kernel Sizes vs time\")\n",
        "plt.show()"
      ],
      "metadata": {
        "colab": {
          "base_uri": "https://localhost:8080/",
          "height": 295
        },
        "id": "l1anIy-C1dYV",
        "outputId": "52e971ad-f30b-462b-ef3d-ad432f0eebf4"
      },
      "id": "l1anIy-C1dYV",
      "execution_count": null,
      "outputs": [
        {
          "output_type": "display_data",
          "data": {
            "text/plain": [
              "<Figure size 432x288 with 1 Axes>"
            ],
            "image/png": "[encoded data removed]"
          },
          "metadata": {
            "needs_background": "light"
          }
        }
      ]
    },
    {
      "cell_type": "code",
      "source": [
        "#Test for net Batch Size\n",
        "criterion = nn.CrossEntropyLoss() # TODO create criterion\n",
        "\n",
        "start = torch.cuda.Event(enable_timing=True)\n",
        "end = torch.cuda.Event(enable_timing=True)\n",
        "\n",
        "Net_updateoutput = []\n",
        "Net_updateGradInput = []\n",
        "Net_accGradParameters = []\n",
        "\n",
        "MIN_INPUT_SIZE  = 5\n",
        "MAX_INPUT_SIZE = 10\n",
        "NUM_RUNS = 2\n",
        "Batch_size_list = list(range(MIN_INPUT_SIZE, MAX_INPUT_SIZE,1 ))\n",
        "\n",
        "# loop over the dataset multiple times\n",
        "for batch_size in tqdm(Batch_size_list):\n",
        "    trainset = torchvision.datasets.FakeData(size=batch_size, image_size=(3,\n",
        "            100, 100), transform=transform)\n",
        "\n",
        "    trainloader = torch.utils.data.DataLoader(trainset,\n",
        "            batch_size=batch_size, shuffle=True, num_workers=2)\n",
        "    net = Net(100,3,)\n",
        "    net.to(device)\n",
        "    optimizer = optim.SGD(net.parameters(), lr=0.001, momentum=0.9) # TODO create optimizer\n",
        "    t_out = 0\n",
        "    t_gradinput = 0\n",
        "    t_gradparameters = 0\n",
        "    for epoch in range(NUM_RUNS):\n",
        "      for i, (inputs, labels) in enumerate(trainloader,0):\n",
        "        # get the inputs; data is a list of [inputs, labels]\n",
        "        (inputs, labels) = (inputs.to(device), labels.to(device))\n",
        "\n",
        "\n",
        "      #### training of CNN model using FFT 2D Conv Layer\n",
        "\n",
        "          # zero the parameter gradients\n",
        "        optimizer.zero_grad()\n",
        "\n",
        "        # timing update of output\n",
        "        start.record()\n",
        "        outputs= net(inputs)\n",
        "        end.record()\n",
        "        torch.cuda.synchronize()\n",
        "        t_out += start.elapsed_time(end)\n",
        "        # timing the update of gradient input\n",
        "        start.record()\n",
        "        loss = criterion(outputs, labels)\n",
        "        loss.backward()\n",
        "        end.record()\n",
        "        torch.cuda.synchronize()\n",
        "        t_gradinput += start.elapsed_time(end)\n",
        "        # timing the update of gradient parameters\n",
        "        start.record()\n",
        "        optimizer.step()\n",
        "        end.record()\n",
        "        torch.cuda.synchronize()\n",
        "        t_gradparameters += start.elapsed_time(end)\n",
        "\n",
        "    Net_updateoutput.append(t_out/NUM_RUNS)\n",
        "    Net_updateGradInput.append(t_gradinput/NUM_RUNS)\n",
        "    Net_accGradParameters.append(t_gradparameters/NUM_RUNS)\n",
        "\n",
        "net.to(\"cpu\")\n",
        "del net\n"
      ],
      "metadata": {
        "id": "K_HeIuWTklYM",
        "colab": {
          "base_uri": "https://localhost:8080/"
        },
        "outputId": "62656857-65f9-45ef-aa16-b6b8c45bfa84"
      },
      "id": "K_HeIuWTklYM",
      "execution_count": null,
      "outputs": [
        {
          "output_type": "stream",
          "name": "stderr",
          "text": [
            "100%|██████████| 5/5 [00:01<00:00,  3.13it/s]\n"
          ]
        }
      ]
    },
    {
      "cell_type": "code",
      "source": [
        "#Test for FFT net Batch Size\n",
        "criterion = nn.CrossEntropyLoss() # TODO create criterion\n",
        "\n",
        "start = torch.cuda.Event(enable_timing=True)\n",
        "end = torch.cuda.Event(enable_timing=True)\n",
        "\n",
        "FFT_updateoutput = []\n",
        "FFT_updateGradInput = []\n",
        "FFT_accGradParameters = []\n",
        "\n",
        "MIN_INPUT_SIZE  = 5\n",
        "MAX_INPUT_SIZE = 10\n",
        "NUM_RUNS = 2\n",
        "Batch_size_list = list(range(MIN_INPUT_SIZE, MAX_INPUT_SIZE,1 ))\n",
        "\n",
        "# loop over the dataset multiple times\n",
        "for batch_size in tqdm(Batch_size_list):\n",
        "    trainset = torchvision.datasets.FakeData(size=batch_size, image_size=(3,\n",
        "            100, 100), transform=transform)\n",
        "\n",
        "    trainloader = torch.utils.data.DataLoader(trainset,\n",
        "            batch_size=batch_size, shuffle=True, num_workers=2)\n",
        "    FFT_net = FFT_Net(100,3,)\n",
        "    FFT_net.to(device)\n",
        "    optimizer = optim.SGD(FFT_net.parameters(), lr=0.001, momentum=0.9) # TODO create optimizer\n",
        "    t_out = 0\n",
        "    t_gradinput = 0\n",
        "    t_gradparameters = 0\n",
        "    for epoch in range(NUM_RUNS):\n",
        "      for i, (inputs, labels) in enumerate(trainloader,0):\n",
        "        # get the inputs; data is a list of [inputs, labels]\n",
        "        (inputs, labels) = (inputs.to(device), labels.to(device))\n",
        "\n",
        "\n",
        "      #### training of CNN model using FFT 2D Conv Layer\n",
        "\n",
        "          # zero the parameter gradients\n",
        "        optimizer.zero_grad()\n",
        "\n",
        "        # timing update of output\n",
        "        start.record()\n",
        "        outputs= FFT_net(inputs)\n",
        "        end.record()\n",
        "        torch.cuda.synchronize()\n",
        "        t_out += start.elapsed_time(end)\n",
        "        # timing the update of gradient input\n",
        "        start.record()\n",
        "        loss = criterion(outputs, labels)\n",
        "        loss.backward()\n",
        "        end.record()\n",
        "        torch.cuda.synchronize()\n",
        "        t_gradinput += start.elapsed_time(end)\n",
        "        # timing the update of gradient parameters\n",
        "        start.record()\n",
        "        optimizer.step()\n",
        "        end.record()\n",
        "        torch.cuda.synchronize()\n",
        "        t_gradparameters += start.elapsed_time(end)\n",
        "\n",
        "    FFT_updateoutput.append(t_out/NUM_RUNS)\n",
        "    FFT_updateGradInput.append(t_gradinput/NUM_RUNS)\n",
        "    FFT_accGradParameters.append(t_gradparameters/NUM_RUNS)\n",
        "\n",
        "FFT_net.to(\"cpu\")\n",
        "del FFT_net\n"
      ],
      "metadata": {
        "id": "xmmqCQtJ1kFq",
        "colab": {
          "base_uri": "https://localhost:8080/"
        },
        "outputId": "46d2b00a-73f8-4c97-a43e-9eeaf8132750"
      },
      "id": "xmmqCQtJ1kFq",
      "execution_count": null,
      "outputs": [
        {
          "output_type": "stream",
          "name": "stderr",
          "text": [
            "100%|██████████| 5/5 [00:01<00:00,  2.97it/s]\n"
          ]
        }
      ]
    },
    {
      "cell_type": "code",
      "source": [
        "#Test for the Naive Net Batch Size\n",
        "criterion = nn.CrossEntropyLoss() # TODO create criterion\n",
        "\n",
        "start = torch.cuda.Event(enable_timing=True)\n",
        "end = torch.cuda.Event(enable_timing=True)\n",
        "\n",
        "Naive_updateoutput = []\n",
        "Naive_updateGradInput = []\n",
        "Naive_accGradParameters = []\n",
        "\n",
        "MIN_INPUT_SIZE  = 5\n",
        "MAX_INPUT_SIZE = 10\n",
        "NUM_RUNS = 2\n",
        "Batch_size_list = list(range(MIN_INPUT_SIZE, MAX_INPUT_SIZE,1 ))\n",
        "\n",
        "# loop over the dataset multiple times\n",
        "for batch_size in tqdm(Batch_size_list):\n",
        "    trainset = torchvision.datasets.FakeData(size=batch_size, image_size=(3,\n",
        "            100, 100), transform=transform)\n",
        "\n",
        "    trainloader = torch.utils.data.DataLoader(trainset,\n",
        "            batch_size=batch_size, shuffle=True, num_workers=2)\n",
        "\n",
        "    Naive_Net = NaiveNet(100,3)\n",
        "    Naive_Net.to(device)\n",
        "    optimizer = optim.SGD(Naive_Net.parameters(), lr=0.001, momentum=0.9) # TODO create optimizer\n",
        "    t_out = 0\n",
        "    t_gradinput = 0\n",
        "    t_gradparameters = 0\n",
        "    for epoch in range(NUM_RUNS):\n",
        "      for i, (inputs, labels) in enumerate(trainloader,0):\n",
        "        # get the inputs; data is a list of [inputs, labels]\n",
        "        (inputs, labels) = (inputs.to(device), labels.to(device))\n",
        "\n",
        "\n",
        "      #### training of CNN model using FFT 2D Conv Layer\n",
        "\n",
        "          # zero the parameter gradients\n",
        "        optimizer.zero_grad()\n",
        "\n",
        "        # timing update of output\n",
        "        start.record()\n",
        "        outputs= Naive_Net(inputs)\n",
        "        end.record()\n",
        "        torch.cuda.synchronize()\n",
        "        t_out += start.elapsed_time(end)\n",
        "        # timing the update of gradient input\n",
        "        start.record()\n",
        "        loss = criterion(outputs, labels)\n",
        "        loss.backward()\n",
        "        end.record()\n",
        "        torch.cuda.synchronize()\n",
        "        t_gradinput += start.elapsed_time(end)\n",
        "        # timing the update of gradient parameters\n",
        "        start.record()\n",
        "        optimizer.step()\n",
        "        end.record()\n",
        "        torch.cuda.synchronize()\n",
        "        t_gradparameters += start.elapsed_time(end)\n",
        "\n",
        "    Naive_updateoutput.append(t_out/NUM_RUNS)\n",
        "    Naive_updateGradInput.append(t_gradinput/NUM_RUNS)\n",
        "    Naive_accGradParameters.append(t_gradparameters/NUM_RUNS)\n",
        "\n",
        "Naive_Net.to(\"cpu\")\n",
        "del Naive_Net\n"
      ],
      "metadata": {
        "id": "6BV5BoJyNIlN",
        "colab": {
          "base_uri": "https://localhost:8080/"
        },
        "outputId": "d20af547-0542-4cf3-eb3f-42e0382ec169"
      },
      "id": "6BV5BoJyNIlN",
      "execution_count": null,
      "outputs": [
        {
          "output_type": "stream",
          "name": "stderr",
          "text": [
            "100%|██████████| 5/5 [43:40<00:00, 524.19s/it]\n"
          ]
        }
      ]
    },
    {
      "cell_type": "code",
      "source": [
        "## Plotting for batch size vs running times\n",
        "plt.plot(Batch_size_list, FFT_updateoutput, label='FFT Conv 2D', color='red')\n",
        "plt.plot(Batch_size_list, Naive_updateoutput, label='Naive Conv 2D', color='blue')\n",
        "plt.plot(Batch_size_list, Net_updateoutput, label='Net Conv 2D', color='green')\n",
        "\n",
        "plt.xlabel('Batch Sizes')\n",
        "plt.ylabel('Execution Time (secs)')\n",
        "plt.legend()\n",
        "plt.title(\"updateoutput: Batch Sizes vs time\")\n",
        "plt.show()"
      ],
      "metadata": {
        "id": "L8EgQim7Nw48",
        "colab": {
          "base_uri": "https://localhost:8080/"
        },
        "outputId": "c0cb2db5-12fb-4326-9440-34ac260e85a9"
      },
      "id": "L8EgQim7Nw48",
      "execution_count": null,
      "outputs": [
        {
          "output_type": "display_data",
          "data": {
            "text/plain": [
              "<Figure size 432x288 with 1 Axes>"
            ],
            "image/png": "[encoded data removed]"
          },
          "metadata": {
            "needs_background": "light"
          }
        }
      ]
    },
    {
      "cell_type": "code",
      "source": [
        "plt.plot(Batch_size_list, FFT_updateGradInput, label='FFT Conv 2D', color='red')\n",
        "plt.plot(Batch_size_list, Naive_updateGradInput, label='Naive Conv 2D', color='blue')\n",
        "plt.plot(Batch_size_list, Net_updateGradInput, label='Net Conv 2D', color='green')\n",
        "\n",
        "plt.xlabel('Input Sizes')\n",
        "plt.ylabel('Execution Time (secs)')\n",
        "plt.legend()\n",
        "plt.title(\"updateGradInput: Batch Sizes vs time\")\n",
        "plt.show()"
      ],
      "metadata": {
        "id": "ed5C0ZLeN1w3",
        "colab": {
          "base_uri": "https://localhost:8080/"
        },
        "outputId": "f332b84e-90d0-4bef-e64e-010d9a561690"
      },
      "id": "ed5C0ZLeN1w3",
      "execution_count": null,
      "outputs": [
        {
          "output_type": "display_data",
          "data": {
            "text/plain": [
              "<Figure size 432x288 with 1 Axes>"
            ],
            "image/png": "[encoded data removed]"
          },
          "metadata": {
            "needs_background": "light"
          }
        }
      ]
    },
    {
      "cell_type": "code",
      "source": [
        "plt.plot(Batch_size_list, FFT_accGradParameters, label='FFT Conv 2D', color='red')\n",
        "plt.plot(Batch_size_list, Naive_accGradParameters, label='Naive Conv 2D', color='blue')\n",
        "plt.plot(Batch_size_list, Net_accGradParameters, label='Net Conv 2D', color='green')\n",
        "\n",
        "plt.xlabel('Batch Sizes')\n",
        "plt.ylabel('Execution Time (secs)')\n",
        "plt.legend()\n",
        "plt.title(\"accGradParameters: Batch Sizes vs time\")\n",
        "plt.show()"
      ],
      "metadata": {
        "id": "Q9G6wOO2N42W",
        "colab": {
          "base_uri": "https://localhost:8080/"
        },
        "outputId": "05a5001a-db77-493f-f1df-87e1adaca8cd"
      },
      "id": "Q9G6wOO2N42W",
      "execution_count": null,
      "outputs": [
        {
          "output_type": "display_data",
          "data": {
            "text/plain": [
              "<Figure size 432x288 with 1 Axes>"
            ],
            "image/png": "[encoded data removed]"
          },
          "metadata": {
            "needs_background": "light"
          }
        }
      ]
    }
  ],
  "metadata": {
    "kernelspec": {
      "display_name": "Python 3 (ipykernel)",
      "language": "python",
      "name": "python3"
    },
    "language_info": {
      "codemirror_mode": {
        "name": "ipython",
        "version": 3
      },
      "file_extension": ".py",
      "mimetype": "text/x-python",
      "name": "python",
      "nbconvert_exporter": "python",
      "pygments_lexer": "ipython3",
      "version": "3.9.7"
    },
    "colab": {
      "provenance": [],
      "machine_shape": "hm"
    },
    "accelerator": "GPU",
    "gpuClass": "premium"
  },
  "nbformat": 4,
  "nbformat_minor": 5
}